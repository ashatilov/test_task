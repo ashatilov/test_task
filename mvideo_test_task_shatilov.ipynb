{
 "cells": [
  {
   "cell_type": "code",
   "execution_count": 1,
   "metadata": {
    "collapsed": true
   },
   "outputs": [],
   "source": [
    "import numpy as np\n",
    "import pandas as pd\n",
    "import re\n",
    "from sklearn.model_selection import train_test_split\n",
    "from sklearn.metrics import confusion_matrix, accuracy_score, log_loss\n",
    "from matplotlib import pyplot as plt\n",
    "import seaborn as sns\n",
    "%matplotlib inline"
   ]
  },
  {
   "cell_type": "markdown",
   "metadata": {},
   "source": [
    "# <center>Бейзлайн на Vowpal Wabbit"
   ]
  },
  {
   "cell_type": "markdown",
   "metadata": {},
   "source": [
    "## Загрузка данных"
   ]
  },
  {
   "cell_type": "code",
   "execution_count": 2,
   "metadata": {
    "collapsed": true
   },
   "outputs": [],
   "source": [
    "df = pd.read_csv('X_train.csv', parse_dates=['date'])"
   ]
  },
  {
   "cell_type": "code",
   "execution_count": 3,
   "metadata": {},
   "outputs": [
    {
     "data": {
      "text/plain": [
       "(15587, 11)"
      ]
     },
     "execution_count": 3,
     "metadata": {},
     "output_type": "execute_result"
    }
   ],
   "source": [
    "df.shape"
   ]
  },
  {
   "cell_type": "code",
   "execution_count": 4,
   "metadata": {},
   "outputs": [
    {
     "data": {
      "text/html": [
       "<div>\n",
       "<style>\n",
       "    .dataframe thead tr:only-child th {\n",
       "        text-align: right;\n",
       "    }\n",
       "\n",
       "    .dataframe thead th {\n",
       "        text-align: left;\n",
       "    }\n",
       "\n",
       "    .dataframe tbody tr th {\n",
       "        vertical-align: top;\n",
       "    }\n",
       "</style>\n",
       "<table border=\"1\" class=\"dataframe\">\n",
       "  <thead>\n",
       "    <tr style=\"text-align: right;\">\n",
       "      <th></th>\n",
       "      <th>sku</th>\n",
       "      <th>categoryLevel1Id</th>\n",
       "      <th>categoryLevel2Id</th>\n",
       "      <th>brandId</th>\n",
       "      <th>property</th>\n",
       "      <th>userName</th>\n",
       "      <th>reting</th>\n",
       "      <th>date</th>\n",
       "      <th>comment</th>\n",
       "      <th>commentNegative</th>\n",
       "      <th>commentPositive</th>\n",
       "    </tr>\n",
       "  </thead>\n",
       "  <tbody>\n",
       "    <tr>\n",
       "      <th>0</th>\n",
       "      <td>20005023</td>\n",
       "      <td>401</td>\n",
       "      <td>4010201</td>\n",
       "      <td>826</td>\n",
       "      <td>[{34: 'f982777489055c6563d68c005fd24aad'}, {36...</td>\n",
       "      <td>b2898a81b45310b30beb8fc0c0a9ce1e</td>\n",
       "      <td>2.0</td>\n",
       "      <td>2013-06-28</td>\n",
       "      <td>2,5 года работала и все...устала! Лампочка гор...</td>\n",
       "      <td>NaN</td>\n",
       "      <td>NaN</td>\n",
       "    </tr>\n",
       "    <tr>\n",
       "      <th>1</th>\n",
       "      <td>20020647</td>\n",
       "      <td>403</td>\n",
       "      <td>4030101</td>\n",
       "      <td>1425</td>\n",
       "      <td>[{34: '9ce895413ebdf6b6dcb69b07dc782591'}, {36...</td>\n",
       "      <td>538c73d64461e13907bb95c51c38bfbc</td>\n",
       "      <td>2.0</td>\n",
       "      <td>2010-07-04</td>\n",
       "      <td>Через 2 месяца после истечении гарантийного ср...</td>\n",
       "      <td>NaN</td>\n",
       "      <td>NaN</td>\n",
       "    </tr>\n",
       "    <tr>\n",
       "      <th>2</th>\n",
       "      <td>20020701</td>\n",
       "      <td>401</td>\n",
       "      <td>4010401</td>\n",
       "      <td>124</td>\n",
       "      <td>[{34: '9ce895413ebdf6b6dcb69b07dc782591'}, {36...</td>\n",
       "      <td>ddca2d0101513a6209db7868eed8be05</td>\n",
       "      <td>4.0</td>\n",
       "      <td>2010-05-27</td>\n",
       "      <td>пользуюсь уже три недели. нареканий ни каких н...</td>\n",
       "      <td>NaN</td>\n",
       "      <td>NaN</td>\n",
       "    </tr>\n",
       "    <tr>\n",
       "      <th>3</th>\n",
       "      <td>30012256</td>\n",
       "      <td>203</td>\n",
       "      <td>2030301</td>\n",
       "      <td>93</td>\n",
       "      <td>[{34: '9ce895413ebdf6b6dcb69b07dc782591'}, {36...</td>\n",
       "      <td>289c20015b3713a82ba5ddf774d996f7</td>\n",
       "      <td>5.0</td>\n",
       "      <td>2016-10-11</td>\n",
       "      <td>Ребят этот системный блок подойдёт для игры кс...</td>\n",
       "      <td>NaN</td>\n",
       "      <td>NaN</td>\n",
       "    </tr>\n",
       "    <tr>\n",
       "      <th>4</th>\n",
       "      <td>30011341</td>\n",
       "      <td>205</td>\n",
       "      <td>2050201</td>\n",
       "      <td>656</td>\n",
       "      <td>[{34: '9ce895413ebdf6b6dcb69b07dc782591'}, {36...</td>\n",
       "      <td>5576f82d149d4f688644fef2322c63ef</td>\n",
       "      <td>5.0</td>\n",
       "      <td>2010-02-26</td>\n",
       "      <td>я считаю, что яри замечательный телефон! Прият...</td>\n",
       "      <td>NaN</td>\n",
       "      <td>NaN</td>\n",
       "    </tr>\n",
       "  </tbody>\n",
       "</table>\n",
       "</div>"
      ],
      "text/plain": [
       "        sku  categoryLevel1Id  categoryLevel2Id  brandId  \\\n",
       "0  20005023               401           4010201      826   \n",
       "1  20020647               403           4030101     1425   \n",
       "2  20020701               401           4010401      124   \n",
       "3  30012256               203           2030301       93   \n",
       "4  30011341               205           2050201      656   \n",
       "\n",
       "                                            property  \\\n",
       "0  [{34: 'f982777489055c6563d68c005fd24aad'}, {36...   \n",
       "1  [{34: '9ce895413ebdf6b6dcb69b07dc782591'}, {36...   \n",
       "2  [{34: '9ce895413ebdf6b6dcb69b07dc782591'}, {36...   \n",
       "3  [{34: '9ce895413ebdf6b6dcb69b07dc782591'}, {36...   \n",
       "4  [{34: '9ce895413ebdf6b6dcb69b07dc782591'}, {36...   \n",
       "\n",
       "                           userName  reting       date  \\\n",
       "0  b2898a81b45310b30beb8fc0c0a9ce1e     2.0 2013-06-28   \n",
       "1  538c73d64461e13907bb95c51c38bfbc     2.0 2010-07-04   \n",
       "2  ddca2d0101513a6209db7868eed8be05     4.0 2010-05-27   \n",
       "3  289c20015b3713a82ba5ddf774d996f7     5.0 2016-10-11   \n",
       "4  5576f82d149d4f688644fef2322c63ef     5.0 2010-02-26   \n",
       "\n",
       "                                             comment commentNegative  \\\n",
       "0  2,5 года работала и все...устала! Лампочка гор...             NaN   \n",
       "1  Через 2 месяца после истечении гарантийного ср...             NaN   \n",
       "2  пользуюсь уже три недели. нареканий ни каких н...             NaN   \n",
       "3  Ребят этот системный блок подойдёт для игры кс...             NaN   \n",
       "4  я считаю, что яри замечательный телефон! Прият...             NaN   \n",
       "\n",
       "  commentPositive  \n",
       "0             NaN  \n",
       "1             NaN  \n",
       "2             NaN  \n",
       "3             NaN  \n",
       "4             NaN  "
      ]
     },
     "execution_count": 4,
     "metadata": {},
     "output_type": "execute_result"
    }
   ],
   "source": [
    "df.head()"
   ]
  },
  {
   "cell_type": "markdown",
   "metadata": {},
   "source": [
    "Целевая переменная - **reting**, посмотрим на её значения"
   ]
  },
  {
   "cell_type": "code",
   "execution_count": 5,
   "metadata": {},
   "outputs": [
    {
     "data": {
      "text/plain": [
       "5.0    9211\n",
       "4.0    2609\n",
       "1.0    1468\n",
       "3.0    1245\n",
       "2.0     854\n",
       "4.7      78\n",
       "4.3      54\n",
       "3.7      16\n",
       "3.3      16\n",
       "2.7      15\n",
       "2.3      14\n",
       "1.3       6\n",
       "1.7       1\n",
       "Name: reting, dtype: int64"
      ]
     },
     "execution_count": 5,
     "metadata": {},
     "output_type": "execute_result"
    }
   ],
   "source": [
    "df.reting.value_counts()"
   ]
  },
  {
   "cell_type": "markdown",
   "metadata": {},
   "source": [
    "Как видно, дробных значений совсем мало, округлим их до целых"
   ]
  },
  {
   "cell_type": "code",
   "execution_count": 6,
   "metadata": {
    "collapsed": true
   },
   "outputs": [],
   "source": [
    "df.reting = df.reting.apply(lambda x: round(x))"
   ]
  },
  {
   "cell_type": "markdown",
   "metadata": {},
   "source": [
    "Посмотрим на распределение значений"
   ]
  },
  {
   "cell_type": "code",
   "execution_count": 7,
   "metadata": {},
   "outputs": [
    {
     "data": {
      "image/png": "[encoded data removed]",
      "text/plain": [
       "<matplotlib.figure.Figure at 0x7fa006beffd0>"
      ]
     },
     "metadata": {},
     "output_type": "display_data"
    }
   ],
   "source": [
    "sns.countplot(df.reting);"
   ]
  },
  {
   "cell_type": "code",
   "execution_count": 8,
   "metadata": {},
   "outputs": [
    {
     "data": {
      "text/plain": [
       "5    0.595945\n",
       "4    0.171874\n",
       "1    0.094566\n",
       "3    0.081863\n",
       "2    0.055752\n",
       "Name: reting, dtype: float64"
      ]
     },
     "execution_count": 8,
     "metadata": {},
     "output_type": "execute_result"
    }
   ],
   "source": [
    "df.reting.value_counts(normalize=True)"
   ]
  },
  {
   "cell_type": "markdown",
   "metadata": {},
   "source": [
    "Положительных отзывов в данных намного больше отрицательных. Если просто предсказывать всегда 5, то получим долю правильных ответов около 0.59"
   ]
  },
  {
   "cell_type": "markdown",
   "metadata": {},
   "source": [
    "## Приведение к формату Vowpal Wabbit"
   ]
  },
  {
   "cell_type": "markdown",
   "metadata": {},
   "source": [
    "Функция для \"очистки\" текста отзыва"
   ]
  },
  {
   "cell_type": "code",
   "execution_count": 9,
   "metadata": {
    "collapsed": true
   },
   "outputs": [],
   "source": [
    "def clean_text(text):\n",
    "    # привести к нижнему регистру\n",
    "    text = text.lower()\n",
    "    # заменить точки, запятые и пр. на пробелы\n",
    "    text = re.sub(r'[\\.,:;\\|]', r' ', text)\n",
    "    # добавить пробелы по обе стороны от воскл. и вопр. знаков и скобок\n",
    "    text = re.sub(r'([!?\\(\\)])', r' \\g<1> ', text)  \n",
    "    # заменить множественные пробелы на одиночные\n",
    "    text = re.sub(r'(\\s){2,}', r'\\g<1>', text)\n",
    "    return text"
   ]
  },
  {
   "cell_type": "markdown",
   "metadata": {},
   "source": [
    "Почистим текстовые данные"
   ]
  },
  {
   "cell_type": "code",
   "execution_count": 10,
   "metadata": {
    "collapsed": true
   },
   "outputs": [],
   "source": [
    "for col in ['comment', 'commentNegative', 'commentPositive']:\n",
    "    df[col].fillna(' ', inplace=True)\n",
    "    df[col] = df[col].apply(lambda x: clean_text(x))"
   ]
  },
  {
   "cell_type": "markdown",
   "metadata": {},
   "source": [
    "Преобразуем данные к формату vowpal wabbit"
   ]
  },
  {
   "cell_type": "code",
   "execution_count": 11,
   "metadata": {
    "collapsed": true,
    "scrolled": true
   },
   "outputs": [],
   "source": [
    "data_vw = (df.reting.astype(str) +\n",
    "           ' |comment ' + df.comment +\n",
    "           ' |comneg ' + df.commentNegative +\n",
    "           ' |compos ' + df.commentPositive + \n",
    "           ' |sku ' + df.sku.astype(str) +\n",
    "           ' |level1 ' + df.categoryLevel1Id.astype(str) +\n",
    "           ' |level2 ' + df.categoryLevel2Id.astype(str) +\n",
    "           ' |brand ' + df.brandId.astype(str))"
   ]
  },
  {
   "cell_type": "markdown",
   "metadata": {},
   "source": [
    "Разобьем на обучение и тест по целевой переменной (70% - train, 30% - test)"
   ]
  },
  {
   "cell_type": "code",
   "execution_count": 12,
   "metadata": {
    "collapsed": true
   },
   "outputs": [],
   "source": [
    "train_vw, test_vw, y_train, y_test = train_test_split(data_vw, df.reting, test_size=0.3,\n",
    "                                                      stratify=df.reting, random_state=19)"
   ]
  },
  {
   "cell_type": "markdown",
   "metadata": {},
   "source": [
    "Запишем данные для обучения и теста в train.vw и test.vw"
   ]
  },
  {
   "cell_type": "code",
   "execution_count": 13,
   "metadata": {
    "collapsed": true,
    "scrolled": true
   },
   "outputs": [],
   "source": [
    "with open('train.vw', 'w') as f:\n",
    "    print(*train_vw.values, sep='\\n', file=f)"
   ]
  },
  {
   "cell_type": "code",
   "execution_count": 14,
   "metadata": {
    "collapsed": true,
    "scrolled": true
   },
   "outputs": [],
   "source": [
    "with open('test.vw', 'w') as f:\n",
    "    print(*test_vw.values, sep='\\n', file=f)"
   ]
  },
  {
   "cell_type": "markdown",
   "metadata": {},
   "source": [
    "## Обучение и оценка модели"
   ]
  },
  {
   "cell_type": "markdown",
   "metadata": {},
   "source": [
    "Обучим модель с биграммами текстовых признаков и логистической функцией потерь"
   ]
  },
  {
   "cell_type": "code",
   "execution_count": 15,
   "metadata": {},
   "outputs": [
    {
     "name": "stdout",
     "output_type": "stream",
     "text": [
      "Generating 2-grams for c namespaces.\n",
      "final_regressor = model.vw\n",
      "Num weight bits = 26\n",
      "learning rate = 0.5\n",
      "initial_t = 0\n",
      "power_t = 0.5\n",
      "creating cache_file = train.vw.cache\n",
      "Reading datafile = train.vw\n",
      "num sources = 1\n",
      "average  since         example        example  current  current  current\n",
      "loss     last          counter         weight    label  predict features\n",
      "0.000000 0.000000            1            1.0        1        1       94\n",
      "0.000000 0.000000            2            2.0        1        1       60\n",
      "0.500000 1.000000            4            4.0        4        1       22\n",
      "0.625000 0.750000            8            8.0        5        5       34\n",
      "0.437500 0.250000           16           16.0        5        5      116\n",
      "0.468750 0.500000           32           32.0        4        5       50\n",
      "0.453125 0.437500           64           64.0        1        5      112\n",
      "0.445312 0.437500          128          128.0        2        5       64\n",
      "0.414062 0.382812          256          256.0        5        5      146\n",
      "0.414062 0.414062          512          512.0        4        5      244\n",
      "0.405273 0.396484         1024         1024.0        5        5       42\n",
      "0.404785 0.404297         2048         2048.0        2        5       14\n",
      "0.385254 0.365723         4096         4096.0        5        5        8\n",
      "0.370850 0.356445         8192         8192.0        4        5       98\n",
      "\n",
      "finished run\n",
      "number of examples per pass = 10910\n",
      "passes used = 1\n",
      "weighted example sum = 10910.000000\n",
      "weighted label sum = 0.000000\n",
      "average loss = 0.363428\n",
      "total feature number = 1178292\n"
     ]
    }
   ],
   "source": [
    "!vw --oaa 5 --passes 1 -d train.vw -f model.vw -b 26 \\\n",
    "    --random_seed 19 -c -k --ngram c2 \\\n",
    "    --loss_function logistic"
   ]
  },
  {
   "cell_type": "markdown",
   "metadata": {},
   "source": [
    "Предскажем целевую переменную для тестового датасета"
   ]
  },
  {
   "cell_type": "code",
   "execution_count": 16,
   "metadata": {},
   "outputs": [
    {
     "name": "stdout",
     "output_type": "stream",
     "text": [
      "Generating 2-grams for c namespaces.\n",
      "only testing\n",
      "predictions = y_pred.txt\n",
      "Num weight bits = 26\n",
      "learning rate = 0.5\n",
      "initial_t = 0\n",
      "power_t = 0.5\n",
      "using no cache\n",
      "Reading datafile = test.vw\n",
      "num sources = 1\n",
      "average  since         example        example  current  current  current\n",
      "loss     last          counter         weight    label  predict features\n",
      "0.000000 0.000000            1            1.0        5        5      140\n",
      "0.000000 0.000000            2            2.0        2        2       64\n",
      "0.250000 0.500000            4            4.0        1        1      136\n",
      "0.250000 0.250000            8            8.0        5        5       42\n",
      "0.312500 0.375000           16           16.0        5        4      368\n",
      "0.281250 0.250000           32           32.0        5        4      162\n",
      "0.265625 0.250000           64           64.0        4        5      256\n",
      "0.273438 0.281250          128          128.0        4        5       34\n",
      "0.343750 0.414062          256          256.0        5        5       34\n",
      "0.324219 0.304688          512          512.0        1        5       28\n",
      "0.322266 0.320312         1024         1024.0        5        5      280\n",
      "0.332520 0.342773         2048         2048.0        5        5       90\n",
      "0.332764 0.333008         4096         4096.0        5        5       18\n",
      "\n",
      "finished run\n",
      "number of examples per pass = 4677\n",
      "passes used = 1\n",
      "weighted example sum = 4677.000000\n",
      "weighted label sum = 0.000000\n",
      "average loss = 0.334189\n",
      "total feature number = 492668\n"
     ]
    }
   ],
   "source": [
    "!vw -i model.vw -t -d test.vw -p y_pred.txt"
   ]
  },
  {
   "cell_type": "markdown",
   "metadata": {},
   "source": [
    "Посмотрим на качество"
   ]
  },
  {
   "cell_type": "code",
   "execution_count": 17,
   "metadata": {},
   "outputs": [
    {
     "data": {
      "text/plain": [
       "0.66581141757536888"
      ]
     },
     "execution_count": 17,
     "metadata": {},
     "output_type": "execute_result"
    }
   ],
   "source": [
    "y_pred = np.loadtxt('y_pred.txt', dtype=int)\n",
    "accuracy_score(y_test, y_pred)"
   ]
  },
  {
   "cell_type": "markdown",
   "metadata": {},
   "source": [
    "Доля верных ответов **0.66**, что лучше качества самого простого и бесполезного решения \"все 5\" в 0.59"
   ]
  },
  {
   "cell_type": "markdown",
   "metadata": {},
   "source": [
    "Посмотрим на confusion matrix"
   ]
  },
  {
   "cell_type": "code",
   "execution_count": 20,
   "metadata": {},
   "outputs": [
    {
     "data": {
      "image/png": "[encoded data removed]",
      "text/plain": [
       "<matplotlib.figure.Figure at 0x7fa003463f60>"
      ]
     },
     "metadata": {},
     "output_type": "display_data"
    }
   ],
   "source": [
    "sns.heatmap(confusion_matrix(y_test, y_pred), annot=True, fmt='d')\n",
    "plt.xlabel('True')\n",
    "plt.ylabel('Predicted');"
   ]
  },
  {
   "cell_type": "markdown",
   "metadata": {},
   "source": [
    "Больше всего модель путает 5 и 4 и плохо предсказывает средние значения"
   ]
  },
  {
   "cell_type": "code",
   "execution_count": null,
   "metadata": {
    "collapsed": true
   },
   "outputs": [],
   "source": []
  }
 ],
 "metadata": {
  "kernelspec": {
   "display_name": "Python [default]",
   "language": "python",
   "name": "python3"
  },
  "language_info": {
   "codemirror_mode": {
    "name": "ipython",
    "version": 3
   },
   "file_extension": ".py",
   "mimetype": "text/x-python",
   "name": "python",
   "nbconvert_exporter": "python",
   "pygments_lexer": "ipython3",
   "version": "3.5.3"
  }
 },
 "nbformat": 4,
 "nbformat_minor": 2
}
